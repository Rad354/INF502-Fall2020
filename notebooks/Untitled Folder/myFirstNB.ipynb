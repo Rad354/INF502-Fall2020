{
 "cells": [
  {
   "cell_type": "markdown",
   "metadata": {},
   "source": [
    "### This is my main code\n",
    "\n",
    "* input from the user\n",
    "* add a number\n",
    "* create a list"
   ]
  },
  {
   "cell_type": "code",
   "execution_count": 13,
   "metadata": {},
   "outputs": [
    {
     "name": "stdout",
     "output_type": "stream",
     "text": [
      "[1, 2, 3, 44, 5]\n"
     ]
    }
   ],
   "source": [
    "list_of_numbers = [1,2,3,44,5]\n",
    "print(list_of_numbers)"
   ]
  },
  {
   "cell_type": "code",
   "execution_count": 15,
   "metadata": {},
   "outputs": [],
   "source": [
    "def func():\n",
    "    print(\"name\")"
   ]
  },
  {
   "cell_type": "code",
   "execution_count": 16,
   "metadata": {
    "scrolled": true
   },
   "outputs": [
    {
     "name": "stdout",
     "output_type": "stream",
     "text": [
      "yes\n"
     ]
    }
   ],
   "source": [
    "    print(\"yes\")"
   ]
  },
  {
   "cell_type": "code",
   "execution_count": 18,
   "metadata": {},
   "outputs": [
    {
     "name": "stdout",
     "output_type": "stream",
     "text": [
      "['speciescode', 'genus', 'altgenus', 'species', 'altspecies', 'tribe', 'subfamily', 'IDissues']\n",
      "['camp fest', 'Camponotus', '', 'festinatus', '', 'Camponotini', 'Formicinae', 'Unclear if in other years this was simply labeled camp sp, or if camp sp is a different species']\n",
      "['camp sp', 'Camponotus', '', 'sp.', '', 'Camponotini', 'Formicinae', '']\n",
      "['cono bico', 'Dorymyrmex', 'Conomyrma', 'bicolor', '', 'Leptomyrmecini', 'Dolichederinae', '']\n",
      "['cono insa', 'Dorymyrmex', 'Conomyrma', 'insanus', 'insana', 'Leptomyrmecini', 'Dolichederinae', '']\n",
      "['crem sp', 'Crematogastor', '', 'sp.', '', 'Crematogastrini', 'Myrmicinae', '']\n",
      "['irid prui', 'Forelius', 'Iridomyrmex', 'pruinosus', 'pruinosum', 'Leptomyrmecini', 'Dolichoderinae', 'Prior to 1987, simply labeled Dolichoderinae, may include more than this species']\n",
      "['myrm depi', 'Myrmecocystus', '', 'depilis', '', 'Lasiini', 'Formicinae', '']\n",
      "['myrm mexi', 'Myrmecocystus', '', 'mexicanus', '', 'Lasiini', 'Formicinae', '']\n",
      "['myrm mimi', 'Myrmecocystus', '', 'mimicus', '', 'Lasiini', 'Formicinae', 'Prior to 1982, counts sometimes included all myrm mimi and myrm depi']\n",
      "['myrm nava', 'Myrmecocystus', '', 'navajo', '', 'Lasiini', 'Formicinae', '']\n",
      "['novo cock', 'Novomessor', '', 'cockerelli', '', 'Stenammini', 'Myrmicinae', '']\n",
      "['novo sp', 'Novomessor', '', 'sp.', '', 'Stenammini', 'Myrmicinae', '']\n",
      "['phei dese', 'Pheidole', '', 'desertorum', '', 'Attini', 'Myrmicinae', '']\n",
      "['phei mili', 'Pheidole', '', 'militicida', '', 'Attini', 'Myrmicinae', '']\n",
      "['phei sp', 'Pheidole', '', 'sp.', '', 'Attini', 'Myrmicinae', '']\n",
      "['phei sita', 'Pheidole', '', 'soritis', 'sitarches', 'Attini', 'Myrmicinae', '']\n",
      "['phei xero', 'Pheidole', '', 'xerophila', '', 'Attini', 'Myrmicinae', '']\n",
      "['phei yell', 'Pheidole', '', 'sp.', '', 'Attini', 'Myrmicinae', '\"Pheidole yellow\"; No further description']\n",
      "['pogo barb', 'Pogonomyrmex', '', 'barbatus', '', 'Pogonomyrmecini', 'Myrmicinae', '']\n",
      "['pogo dese', 'Pogonomyrmex', '', 'desertorum', '', 'Pogonomyrmecini', 'Myrmicinae', '']\n",
      "['pogo imbe', 'Pogonomyrmex', '', 'imberbiculus', '', 'Pogonomyrmecini', 'Myrmicinae', '']\n",
      "['pogo mari', 'Pogonomyrmex', '', 'maricopa', '', 'Pogonomyrmecini', 'Myrmicinae', '']\n",
      "['pogo pima', 'Pogonomyrmex', '', 'pima', '', 'Pogonomyrmecini', 'Myrmicinae', '']\n",
      "['pogo rugo', 'Pogonomyrmex', '', 'rugosus', '', 'Pogonomyrmecini', 'Myrmicinae', '']\n",
      "['sole sp', 'Solenopsis', '', 'sp.', '', 'Solenopsidini', 'Myrmicinae', '']\n",
      "['sole xylo', 'Solenopsis', '', 'xyloni', '', 'Solenopsidini', 'Myrmicinae', '']\n",
      "['unkn', 'unknown', '', 'unknown', '', 'unknown', 'unknown', 'Possibly contains several species within one year and plot']\n"
     ]
    }
   ],
   "source": [
    "import csv\n",
    "\n",
    "with open('../ant_species.csv') as ant_file:\n",
    "    csv_reader = csv.reader(ant_file)\n",
    "    for row in csv_reader:\n",
    "        print (row)"
   ]
  },
  {
   "cell_type": "code",
   "execution_count": null,
   "metadata": {},
   "outputs": [],
   "source": [
    "csv_reader"
   ]
  },
  {
   "cell_type": "code",
   "execution_count": null,
   "metadata": {},
   "outputs": [],
   "source": []
  }
 ],
 "metadata": {
  "kernelspec": {
   "display_name": "Python 3",
   "language": "python",
   "name": "python3"
  },
  "language_info": {
   "codemirror_mode": {
    "name": "ipython",
    "version": 3
   },
   "file_extension": ".py",
   "mimetype": "text/x-python",
   "name": "python",
   "nbconvert_exporter": "python",
   "pygments_lexer": "ipython3",
   "version": "3.7.6"
  }
 },
 "nbformat": 4,
 "nbformat_minor": 4
}
